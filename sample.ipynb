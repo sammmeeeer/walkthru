{
 "cells": [
  {
   "cell_type": "markdown",
   "id": "3b012248-df70-4987-927e-bf0cb48d2419",
   "metadata": {},
   "source": [
    "Walkthru sample notebook\n"
   ]
  },
  {
   "cell_type": "markdown",
   "id": "99d20b8a-b73a-492c-8558-e0d76c70a60a",
   "metadata": {},
   "source": [
    "Here is how i calculate 1+1"
   ]
  },
  {
   "cell_type": "code",
   "execution_count": 3,
   "id": "bc10bffe-9d18-4806-be08-d40ca8ab4bf7",
   "metadata": {},
   "outputs": [],
   "source": [
    "from numpy import *\n"
   ]
  },
  {
   "cell_type": "code",
   "execution_count": 4,
   "id": "536640b1-1ec8-41a7-8713-7b454f3096c9",
   "metadata": {},
   "outputs": [
    {
     "data": {
      "text/plain": [
       "array([0.84147098, 1.        ])"
      ]
     },
     "execution_count": 4,
     "metadata": {},
     "output_type": "execute_result"
    }
   ],
   "source": [
    "a = array([1.0, pi/2])\n",
    "sin(a)"
   ]
  },
  {
   "cell_type": "code",
   "execution_count": null,
   "id": "a52b3245-35d6-4a79-8c60-a53bbb800325",
   "metadata": {},
   "outputs": [],
   "source": []
  }
 ],
 "metadata": {
  "kernelspec": {
   "display_name": "Python 3 (ipykernel)",
   "language": "python",
   "name": "python3"
  },
  "language_info": {
   "codemirror_mode": {
    "name": "ipython",
    "version": 3
   },
   "file_extension": ".py",
   "mimetype": "text/x-python",
   "name": "python",
   "nbconvert_exporter": "python",
   "pygments_lexer": "ipython3",
   "version": "3.10.14"
  }
 },
 "nbformat": 4,
 "nbformat_minor": 5
}
